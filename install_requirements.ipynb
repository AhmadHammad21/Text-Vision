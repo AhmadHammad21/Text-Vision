{
 "cells": [
  {
   "cell_type": "code",
   "execution_count": null,
   "metadata": {},
   "outputs": [],
   "source": [
    "!pip install pdfplumber\n",
    "!pip install python-bidi\n",
    "!pip install pytesseract pdf2image\n",
    "!pip install accelerate transformers\n",
    "!pip install streamlit \n",
    "!pip install pymupdf\n",
    "!apt-get install tesseract-ocr -y\n",
    "!apt-get install tesseract-ocr-ara -y\n",
    "!apt-get install tesseract-ocr-eng -y\n",
    "!apt-get install poppler-utils -y\n",
    "pytesseract.pytesseract.tesseract_cmd = '/usr/bin/tesseract'"
   ]
  }
 ],
 "metadata": {
  "language_info": {
   "name": "python"
  }
 },
 "nbformat": 4,
 "nbformat_minor": 2
}
