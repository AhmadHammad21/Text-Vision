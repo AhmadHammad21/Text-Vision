{
 "cells": [
  {
   "cell_type": "code",
   "execution_count": 1,
   "metadata": {},
   "outputs": [],
   "source": [
    "from src.text_extractor import TextExtraction"
   ]
  },
  {
   "cell_type": "code",
   "execution_count": 8,
   "metadata": {},
   "outputs": [],
   "source": [
    "pdf_file = r'C:\\Users\\user\\OneDrive\\Noura_OCR\\Invoices\\Invoices\\Cleaned_Invoices\\pdf_text\\6220327945_Gulf Medical Co Ltd _202401.pdf'\n",
    "image = r'C:\\Users\\user\\OneDrive\\Noura_OCR\\Invoices\\Invoices\\Cleaned_Invoices\\images\\Invoice Sample No.1.png'\n",
    "pdf_image = r'C:\\Users\\user\\OneDrive\\Noura_OCR\\Invoices\\Invoices\\Cleaned_Invoices\\pdf_image\\20240714141934924.pdf'"
   ]
  },
  {
   "cell_type": "code",
   "execution_count": 19,
   "metadata": {},
   "outputs": [
    {
     "data": {
      "text/plain": [
       "{'page1': \"Fahmi Alqawasmi & Partner Co. \\u200fشركة فههي الجواسهي وشريكټە\\u200e\\n' P.O.BOX 851370-11185 11185-851370: \\u200fص.پ\\u200e\\n\\u200eJORDAN - AMMAN \\u200fالاردن - عمان\\u200e\\nTAX NO.3936040 3936040 \\u200fرقم ضريبة المبيعات\\u200e\\n\\u200fفاثتورة\\u200e - ۱\\n2 01/04/2024|¦ \\u200fالثاريخ\\u200e |\\n100( \\u200fرقم الفاتورة\\u200e\\n\\u200fالسادة شركة المنشور للتجميل\\u200e\\n[# \\u200fالمجموع | قيمة الخصم | سعر البيع الوحدة | الكمية اسم المادة رقم المادة\\u200e\\n| 1 | 4040943005454 | BRIGHTENING FACE CLEANSER 500ML] 1 PC | 256 | 0 |] 25\\n|] 2 | 40943005461 BRIGHTENING FACE FRESHENER ^ PC 25 0 25\\nLL 500ML| | \\u200fا\\u200e\\n\\u200e3 | 4040943015101 | BRIGHTENING EXFOLIATOR 100ML ۳a PC 20 0 20\\n\\u200fا ا\\u200e e 7 I\\n4 | 4040943023472 | INTENSE CLEARING MASK 200MLÎ 1 | PC 29 | 0 ] 29 |\\nLA 0 \\u200fا اا ات\\u200e\\n5] 021 AURIS ESFOKRTORSMI E 1 PC | 25 |] 0 O] 25 |]\\nWB \\u200f}ا 0 ا\\u200e\\n6 | 40943001722 ` DEEP XPRESS HYDRO MASK 200MLÎ 1 | PC | 32 | 0 | 32\\n7] 4040943014546 | MOOR CREAM MASK 200ML / 1 PG O27] 0 |] 7\\n‘8 | 4040943002200 | HERBAL SKIN OINTMENT 200ML] J 1 | PC Û 25 0 |] 25\\n9| 4040943006239 | O DARK CIRCLE EYE E CREAM 30ML, 1 [ PE | 20 | 0 [| 20 O\\n10| 4040943007311 OOOO HYALURON FLUID 25. \\u200fا\\u200e O1 [BOX | 38 | 0 O] 38\\nوو ر\\n22931 ت 1 8\\nا | ص | فقط مبلغ مئتان و سنة و ستون دینار و 000 فلس لا غير 0\\nا اعت\\nا 266 | الاجلي | الاجمالي\\nافم المصقلم س توقيع و ختم المستلم\"}"
      ]
     },
     "execution_count": 19,
     "metadata": {},
     "output_type": "execute_result"
    }
   ],
   "source": [
    "extracted_text = TextExtraction(pdf_image).process()\n",
    "extracted_text"
   ]
  },
  {
   "cell_type": "code",
   "execution_count": 20,
   "metadata": {},
   "outputs": [
    {
     "data": {
      "text/plain": [
       "['Fahmi Alqawasmi & Partner Co. \\u200fشركة فههي الجواسهي وشريكټە\\u200e',\n",
       " \"' P.O.BOX 851370-11185 11185-851370: \\u200fص.پ\\u200e\",\n",
       " '\\u200eJORDAN - AMMAN \\u200fالاردن - عمان\\u200e',\n",
       " 'TAX NO.3936040 3936040 \\u200fرقم ضريبة المبيعات\\u200e',\n",
       " '\\u200fفاثتورة\\u200e - ۱',\n",
       " '2 01/04/2024|¦ \\u200fالثاريخ\\u200e |',\n",
       " '100( \\u200fرقم الفاتورة\\u200e',\n",
       " '\\u200fالسادة شركة المنشور للتجميل\\u200e',\n",
       " '[# \\u200fالمجموع | قيمة الخصم | سعر البيع الوحدة | الكمية اسم المادة رقم المادة\\u200e',\n",
       " '| 1 | 4040943005454 | BRIGHTENING FACE CLEANSER 500ML] 1 PC | 256 | 0 |] 25',\n",
       " '|] 2 | 40943005461 BRIGHTENING FACE FRESHENER ^ PC 25 0 25',\n",
       " 'LL 500ML| | \\u200fا\\u200e',\n",
       " '\\u200e3 | 4040943015101 | BRIGHTENING EXFOLIATOR 100ML ۳a PC 20 0 20',\n",
       " '\\u200fا ا\\u200e e 7 I',\n",
       " '4 | 4040943023472 | INTENSE CLEARING MASK 200MLÎ 1 | PC 29 | 0 ] 29 |',\n",
       " 'LA 0 \\u200fا اا ات\\u200e',\n",
       " '5] 021 AURIS ESFOKRTORSMI E 1 PC | 25 |] 0 O] 25 |]',\n",
       " 'WB \\u200f}ا 0 ا\\u200e',\n",
       " '6 | 40943001722 ` DEEP XPRESS HYDRO MASK 200MLÎ 1 | PC | 32 | 0 | 32',\n",
       " '7] 4040943014546 | MOOR CREAM MASK 200ML / 1 PG O27] 0 |] 7',\n",
       " '‘8 | 4040943002200 | HERBAL SKIN OINTMENT 200ML] J 1 | PC Û 25 0 |] 25',\n",
       " '9| 4040943006239 | O DARK CIRCLE EYE E CREAM 30ML, 1 [ PE | 20 | 0 [| 20 O',\n",
       " '10| 4040943007311 OOOO HYALURON FLUID 25. \\u200fا\\u200e O1 [BOX | 38 | 0 O] 38',\n",
       " 'وو ر',\n",
       " '22931 ت 1 8',\n",
       " 'ا | ص | فقط مبلغ مئتان و سنة و ستون دینار و 000 فلس لا غير 0',\n",
       " 'ا اعت',\n",
       " 'ا 266 | الاجلي | الاجمالي',\n",
       " 'افم المصقلم س توقيع و ختم المستلم']"
      ]
     },
     "execution_count": 20,
     "metadata": {},
     "output_type": "execute_result"
    }
   ],
   "source": [
    "extracted_text['page1'].split(\"\\n\")"
   ]
  },
  {
   "cell_type": "code",
   "execution_count": 21,
   "metadata": {},
   "outputs": [],
   "source": [
    "from bidi import get_display\n",
    "# displayed_text = get_display(text_)"
   ]
  },
  {
   "cell_type": "code",
   "execution_count": 22,
   "metadata": {},
   "outputs": [],
   "source": [
    "a = get_display(extracted_text['page1'])"
   ]
  },
  {
   "cell_type": "code",
   "execution_count": 2,
   "metadata": {},
   "outputs": [],
   "source": [
    "from src.text_extractor import TextExtraction\n",
    "# from src.llm_model import LLM_L200\n",
    "from src.rule_based_model import RuleBasedModel\n",
    "\n",
    "\n",
    "file_path = r'C:\\Users\\user\\OneDrive\\Noura_OCR\\Invoices\\Invoices\\Cleaned_Invoices\\pdf_text\\6220327945_Gulf Medical Co Ltd _202401.pdf'\n",
    "\n",
    "extracted_text = TextExtraction(file_path=file_path).process()\n",
    "\n",
    "# llm_predictions = LLM_L200(text=extracted_text).process()\n",
    "\n",
    "rules_predictions = RuleBasedModel(text=extracted_text['page1']).process()"
   ]
  },
  {
   "cell_type": "code",
   "execution_count": 3,
   "metadata": {},
   "outputs": [
    {
     "data": {
      "text/plain": [
       "{'header_text': 'TAX INVOICE'}"
      ]
     },
     "execution_count": 3,
     "metadata": {},
     "output_type": "execute_result"
    }
   ],
   "source": [
    "rules_predictions"
   ]
  },
  {
   "cell_type": "code",
   "execution_count": null,
   "metadata": {},
   "outputs": [],
   "source": []
  },
  {
   "cell_type": "code",
   "execution_count": 2,
   "metadata": {},
   "outputs": [],
   "source": [
    "llm_predictions = {'Invoice Date': '10/03/2024',\n",
    "    'Company Code': '20 2938',\n",
    "    'Invoice Number': '5596',\n",
    "    'Header Text': 'شركة المنشور للتجميل المحترميع',\n",
    "    'Item Text': None,\n",
    "    'Assignment': None,\n",
    "    'Purchase Order/Scheduling Agreement': None,\n",
    "    'Payment Terms': \"XX\",\n",
    "    'Payment Method': \"XYZ\"\n",
    "    }\n",
    "\n",
    "\n",
    "rules_predictions = {'Invoice Date': None,\n",
    "    'Company Code': None,\n",
    "    'Invoice Number': None,\n",
    "    'Header Text': 'Tax Invoice',\n",
    "    'Item Text': None,\n",
    "    'Assignment': None,\n",
    "    'Purchase Order/Scheduling Agreement': None,\n",
    "    'Payment Terms': 'N30',\n",
    "    'Payment Method': 'Cash'\n",
    "    }"
   ]
  },
  {
   "cell_type": "code",
   "execution_count": 3,
   "metadata": {},
   "outputs": [
    {
     "name": "stderr",
     "output_type": "stream",
     "text": [
      "INFO:root:FormatResults.process Started\n",
      "INFO:root:LLM Predictions: \n",
      "INFO:root:{'Invoice Date': '10/03/2024', 'Company Code': '20 2938', 'Invoice Number': '5596', 'Header Text': 'شركة المنشور للتجميل المحترميع', 'Item Text': None, 'Assignment': None, 'Purchase Order/Scheduling Agreement': None, 'Payment Terms': 'XX', 'Payment Method': 'XYZ'}\n",
      "INFO:root:Rules Predictions: \n",
      "INFO:root:{'Invoice Date': None, 'Company Code': None, 'Invoice Number': None, 'Header Text': 'Tax Invoice', 'Item Text': None, 'Assignment': None, 'Purchase Order/Scheduling Agreement': None, 'Payment Terms': 'N30', 'Payment Method': 'Cash'}\n",
      "INFO:root:Final Predictions\n",
      "INFO:root:{'Invoice Date': '10/03/2024', 'Company Code': '20 2938', 'Invoice Number': '5596', 'Header Text': 'Tax Invoice', 'Item Text': None, 'Assignment': None, 'Purchase Order/Scheduling Agreement': None, 'Payment Terms': 'N30', 'Payment Method': 'Cash'}\n",
      "INFO:root:FormatResults.process Started\n"
     ]
    }
   ],
   "source": [
    "from src.format_results import FormatResults\n",
    "\n",
    "r = FormatResults(llm_predictions=llm_predictions, rules_predictions=rules_predictions).process()"
   ]
  },
  {
   "cell_type": "code",
   "execution_count": null,
   "metadata": {},
   "outputs": [],
   "source": [
    "r.process"
   ]
  },
  {
   "cell_type": "code",
   "execution_count": null,
   "metadata": {},
   "outputs": [],
   "source": []
  }
 ],
 "metadata": {
  "kernelspec": {
   "display_name": "pdf_ocr",
   "language": "python",
   "name": "python3"
  },
  "language_info": {
   "codemirror_mode": {
    "name": "ipython",
    "version": 3
   },
   "file_extension": ".py",
   "mimetype": "text/x-python",
   "name": "python",
   "nbconvert_exporter": "python",
   "pygments_lexer": "ipython3",
   "version": "3.12.4"
  }
 },
 "nbformat": 4,
 "nbformat_minor": 2
}
